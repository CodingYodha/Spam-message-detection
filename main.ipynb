{
 "cells": [
  {
   "cell_type": "code",
   "execution_count": 137,
   "metadata": {},
   "outputs": [],
   "source": [
    "import numpy as np\n",
    "import pandas as pd\n",
    "import matplotlib.pyplot as plt\n",
    "import seaborn as sns\n",
    "import torch"
   ]
  },
  {
   "cell_type": "code",
   "execution_count": 138,
   "metadata": {},
   "outputs": [
    {
     "name": "stdout",
     "output_type": "stream",
     "text": [
      "PyTorch version: 2.6.0+cu118\n",
      "CUDA available: True\n",
      "Current device: NVIDIA GeForce RTX 3050 6GB Laptop GPU\n"
     ]
    }
   ],
   "source": [
    "import torch\n",
    "print(f\"PyTorch version: {torch.__version__}\")\n",
    "print(f\"CUDA available: {torch.cuda.is_available()}\")\n",
    "print(f\"Current device: {torch.cuda.get_device_name(0)}\")"
   ]
  },
  {
   "cell_type": "code",
   "execution_count": 139,
   "metadata": {},
   "outputs": [],
   "source": [
    "df = pd.read_csv('spam_ham_india.csv')"
   ]
  },
  {
   "cell_type": "code",
   "execution_count": 140,
   "metadata": {},
   "outputs": [
    {
     "data": {
      "text/html": [
       "<div>\n",
       "<style scoped>\n",
       "    .dataframe tbody tr th:only-of-type {\n",
       "        vertical-align: middle;\n",
       "    }\n",
       "\n",
       "    .dataframe tbody tr th {\n",
       "        vertical-align: top;\n",
       "    }\n",
       "\n",
       "    .dataframe thead th {\n",
       "        text-align: right;\n",
       "    }\n",
       "</style>\n",
       "<table border=\"1\" class=\"dataframe\">\n",
       "  <thead>\n",
       "    <tr style=\"text-align: right;\">\n",
       "      <th></th>\n",
       "      <th>Msg</th>\n",
       "      <th>Label</th>\n",
       "    </tr>\n",
       "  </thead>\n",
       "  <tbody>\n",
       "    <tr>\n",
       "      <th>0</th>\n",
       "      <td>CONGRATULATIONS! FREE 2GB data is yours! Claim...</td>\n",
       "      <td>spam</td>\n",
       "    </tr>\n",
       "    <tr>\n",
       "      <th>1</th>\n",
       "      <td>Hi! Thank you for being with Vi-India's FASTES...</td>\n",
       "      <td>spam</td>\n",
       "    </tr>\n",
       "    <tr>\n",
       "      <th>2</th>\n",
       "      <td>As part of Cyber Swachhta Pakhwada, CERT-In Go...</td>\n",
       "      <td>spam</td>\n",
       "    </tr>\n",
       "    <tr>\n",
       "      <th>3</th>\n",
       "      <td>I will try to manage took tablets</td>\n",
       "      <td>ham</td>\n",
       "    </tr>\n",
       "    <tr>\n",
       "      <th>4</th>\n",
       "      <td>Study from Home with Vi!! Watch Kite Victers C...</td>\n",
       "      <td>spam</td>\n",
       "    </tr>\n",
       "    <tr>\n",
       "      <th>...</th>\n",
       "      <td>...</td>\n",
       "      <td>...</td>\n",
       "    </tr>\n",
       "    <tr>\n",
       "      <th>2262</th>\n",
       "      <td>Dear Customer, You have a missed call from +91...</td>\n",
       "      <td>spam</td>\n",
       "    </tr>\n",
       "    <tr>\n",
       "      <th>2263</th>\n",
       "      <td>Dear User, Vistor Id - 7538XXX. Loan Applicati...</td>\n",
       "      <td>spam</td>\n",
       "    </tr>\n",
       "    <tr>\n",
       "      <th>2264</th>\n",
       "      <td>Congrats, Y0UR Received Rs.592000 L0AN is Appr...</td>\n",
       "      <td>spam</td>\n",
       "    </tr>\n",
       "    <tr>\n",
       "      <th>2265</th>\n",
       "      <td>Hi! 50% off on proc. fees will be gone soon! A...</td>\n",
       "      <td>spam</td>\n",
       "    </tr>\n",
       "    <tr>\n",
       "      <th>2266</th>\n",
       "      <td>Congrats User, Rs.15OOO Bonus is Credited to y...</td>\n",
       "      <td>spam</td>\n",
       "    </tr>\n",
       "  </tbody>\n",
       "</table>\n",
       "<p>2267 rows × 2 columns</p>\n",
       "</div>"
      ],
      "text/plain": [
       "                                                    Msg Label\n",
       "0     CONGRATULATIONS! FREE 2GB data is yours! Claim...  spam\n",
       "1     Hi! Thank you for being with Vi-India's FASTES...  spam\n",
       "2     As part of Cyber Swachhta Pakhwada, CERT-In Go...  spam\n",
       "3                     I will try to manage took tablets   ham\n",
       "4     Study from Home with Vi!! Watch Kite Victers C...  spam\n",
       "...                                                 ...   ...\n",
       "2262  Dear Customer, You have a missed call from +91...  spam\n",
       "2263  Dear User, Vistor Id - 7538XXX. Loan Applicati...  spam\n",
       "2264  Congrats, Y0UR Received Rs.592000 L0AN is Appr...  spam\n",
       "2265  Hi! 50% off on proc. fees will be gone soon! A...  spam\n",
       "2266  Congrats User, Rs.15OOO Bonus is Credited to y...  spam\n",
       "\n",
       "[2267 rows x 2 columns]"
      ]
     },
     "execution_count": 140,
     "metadata": {},
     "output_type": "execute_result"
    }
   ],
   "source": [
    "df"
   ]
  },
  {
   "cell_type": "code",
   "execution_count": 141,
   "metadata": {},
   "outputs": [
    {
     "name": "stdout",
     "output_type": "stream",
     "text": [
      "\n",
      "\n",
      "Msg\n",
      "?image omitted                                                                                                                                                                                                       27\n",
      "Ok                                                                                                                                                                                                                   18\n",
      "Hi team                                                                                                                                                                                                              13\n",
      "??                                                                                                                                                                                                                   12\n",
      "Joined                                                                                                                                                                                                               11\n",
      "                                                                                                                                                                                                                     ..\n",
      "THE BIG BULL starring Abhishek Bachchan dekhiye Disney+ Hotstar VIP par. Vi ke naye 401 recharge pe paiye 1yr Disney+ Hotstar VIP & 100GB data (3GB/day +16GB) + Unlimited Calls; 28days. Click bit.ly/ViHotstar1     1\n",
      "Biggest Diwali Offers@ VISHAL Mixer Grinder 3Jar(Mrp 2499) 45%OFF- Rs 1374 ONLY TODAY + FREE-VIP Trolley,Duffle Bag + 7.5% SBI Cashback TnC                                                                           1\n",
      "Don't miss out on FREE rewards on Airtel Thanks App. To claim your rewards, visit i.airtel.in/Thanks_rewards                                                                                                          1\n",
      "The index adjustment usually follows a gradual inclusion process, and the inflow of funds is also carried out in stages                                                                                               1\n",
      "Rs. 11,350 Welcome Bonus is waiting for you on Junglee Rummy. Unlock it now by making your first deposit. Claim http://Kx6.in/U8oBZo T&CA*-Sports League                                                              1\n",
      "Name: count, Length: 2062, dtype: int64\n",
      "\n",
      "\n",
      "Label\n",
      "ham     1522\n",
      "spam     745\n",
      "Name: count, dtype: int64\n"
     ]
    }
   ],
   "source": [
    "for col in df.columns:\n",
    "    print('\\n')\n",
    "    print(f'{df[col].value_counts()}')"
   ]
  },
  {
   "cell_type": "code",
   "execution_count": 142,
   "metadata": {},
   "outputs": [],
   "source": [
    "x=df['Msg']\n",
    "y=df['Label']"
   ]
  },
  {
   "cell_type": "code",
   "execution_count": 143,
   "metadata": {},
   "outputs": [],
   "source": [
    "import re\n",
    "import nltk\n",
    "from nltk.corpus import stopwords\n",
    "from nltk.tokenize import word_tokenize\n",
    "from nltk.stem import WordNetLemmatizer"
   ]
  },
  {
   "cell_type": "code",
   "execution_count": 144,
   "metadata": {},
   "outputs": [
    {
     "name": "stderr",
     "output_type": "stream",
     "text": [
      "[nltk_data] Downloading package stopwords to\n",
      "[nltk_data]     C:\\Users\\Shiva\\AppData\\Roaming\\nltk_data...\n",
      "[nltk_data]   Package stopwords is already up-to-date!\n",
      "[nltk_data] Downloading package punkt to\n",
      "[nltk_data]     C:\\Users\\Shiva\\AppData\\Roaming\\nltk_data...\n",
      "[nltk_data]   Package punkt is already up-to-date!\n",
      "[nltk_data] Downloading package wordnet to\n",
      "[nltk_data]     C:\\Users\\Shiva\\AppData\\Roaming\\nltk_data...\n",
      "[nltk_data]   Package wordnet is already up-to-date!\n"
     ]
    },
    {
     "data": {
      "text/plain": [
       "True"
      ]
     },
     "execution_count": 144,
     "metadata": {},
     "output_type": "execute_result"
    }
   ],
   "source": [
    "nltk.download('stopwords')\n",
    "nltk.download('punkt')\n",
    "nltk.download('wordnet')\n",
    "\n",
    "\n"
   ]
  },
  {
   "cell_type": "code",
   "execution_count": 145,
   "metadata": {},
   "outputs": [
    {
     "name": "stderr",
     "output_type": "stream",
     "text": [
      "[nltk_data] Downloading package punkt to\n",
      "[nltk_data]     C:\\Users\\Shiva\\AppData\\Roaming\\nltk_data...\n",
      "[nltk_data]   Package punkt is already up-to-date!\n"
     ]
    },
    {
     "data": {
      "text/plain": [
       "True"
      ]
     },
     "execution_count": 145,
     "metadata": {},
     "output_type": "execute_result"
    }
   ],
   "source": [
    "import nltk\n",
    "nltk.download('punkt')"
   ]
  },
  {
   "cell_type": "code",
   "execution_count": 146,
   "metadata": {},
   "outputs": [],
   "source": [
    "def clean_text(text):\n",
    "\n",
    "    if isinstance(text, float):  # Handle NaN or float values\n",
    "        text = \"\"\n",
    "\n",
    "    text = text.lower() #convert to lowercase\n",
    "    text = re.sub(r'\\W', ' ', text) # remove special characters\n",
    "    text = re.sub(r'\\s+' , ' ' , text).strip() #remove extra spaces\n",
    "    \n",
    "    tokens = word_tokenize(text)\n",
    "    tokens = [word for word in tokens if word not in stopwords.words('english')] #removing stop words\n",
    "\n",
    "    lemmatizer = WordNetLemmatizer()\n",
    "    tokens = [lemmatizer.lemmatize(word) for word in tokens] # Lemmatization\n",
    "\n",
    "    return ' '.join(tokens)\n",
    "\n"
   ]
  },
  {
   "cell_type": "code",
   "execution_count": 147,
   "metadata": {},
   "outputs": [
    {
     "name": "stderr",
     "output_type": "stream",
     "text": [
      "[nltk_data] Downloading package punkt_tab to\n",
      "[nltk_data]     C:\\Users\\Shiva\\AppData\\Roaming\\nltk_data...\n",
      "[nltk_data]   Package punkt_tab is already up-to-date!\n",
      "[nltk_data] Downloading package stopwords to\n",
      "[nltk_data]     C:\\Users\\Shiva\\AppData\\Roaming\\nltk_data...\n",
      "[nltk_data]   Package stopwords is already up-to-date!\n"
     ]
    },
    {
     "data": {
      "text/plain": [
       "True"
      ]
     },
     "execution_count": 147,
     "metadata": {},
     "output_type": "execute_result"
    }
   ],
   "source": [
    "import nltk\n",
    "nltk.download('punkt_tab')\n",
    "nltk.download('stopwords')\n"
   ]
  },
  {
   "cell_type": "code",
   "execution_count": 148,
   "metadata": {},
   "outputs": [],
   "source": [
    "x = x.apply(clean_text)\n",
    "\n"
   ]
  },
  {
   "cell_type": "code",
   "execution_count": 149,
   "metadata": {},
   "outputs": [
    {
     "data": {
      "text/plain": [
       "0       congratulation free 2gb data claim airtel than...\n",
       "1       hi thank vi india fastest 4g ookla verified lo...\n",
       "2       part cyber swachhta pakhwada cert goi advises ...\n",
       "3                                  try manage took tablet\n",
       "4       study home vi watch kite victers channel free ...\n",
       "                              ...                        \n",
       "2262    dear customer missed call 918431333249 last mi...\n",
       "2263    dear user vistor id 7538xxx loan application r...\n",
       "2264    congrats y0ur received r 592000 l0an approve 1...\n",
       "2265    hi 50 proc fee gone soon apply olyv formerly s...\n",
       "2266    congrats user r 15ooo bonus credited wallet xx...\n",
       "Name: Msg, Length: 2267, dtype: object"
      ]
     },
     "execution_count": 149,
     "metadata": {},
     "output_type": "execute_result"
    }
   ],
   "source": [
    "x"
   ]
  },
  {
   "cell_type": "code",
   "execution_count": 150,
   "metadata": {},
   "outputs": [],
   "source": [
    "from sklearn.feature_extraction.text import TfidfVectorizer\n",
    "\n",
    "vectorizer = TfidfVectorizer()\n",
    "x = vectorizer.fit_transform(x)"
   ]
  },
  {
   "cell_type": "code",
   "execution_count": 151,
   "metadata": {},
   "outputs": [],
   "source": [
    "from sklearn.model_selection import train_test_split\n",
    "\n",
    "x_train , x_test , y_train , y_test = train_test_split(x, y , test_size=0.2 , random_state=42)"
   ]
  },
  {
   "cell_type": "code",
   "execution_count": 152,
   "metadata": {},
   "outputs": [
    {
     "name": "stderr",
     "output_type": "stream",
     "text": [
      "C:\\Users\\Shiva\\AppData\\Local\\Temp\\ipykernel_15456\\3251901739.py:1: FutureWarning: Downcasting behavior in `replace` is deprecated and will be removed in a future version. To retain the old behavior, explicitly call `result.infer_objects(copy=False)`. To opt-in to the future behavior, set `pd.set_option('future.no_silent_downcasting', True)`\n",
      "  y_train = y_train.replace({'ham':0 , 'spam':1})\n",
      "C:\\Users\\Shiva\\AppData\\Local\\Temp\\ipykernel_15456\\3251901739.py:2: FutureWarning: Downcasting behavior in `replace` is deprecated and will be removed in a future version. To retain the old behavior, explicitly call `result.infer_objects(copy=False)`. To opt-in to the future behavior, set `pd.set_option('future.no_silent_downcasting', True)`\n",
      "  y_test = y_test.replace({'ham':0 , 'spam':1})\n"
     ]
    }
   ],
   "source": [
    "y_train = y_train.replace({'ham':0 , 'spam':1})\n",
    "y_test = y_test.replace({'ham':0 , 'spam':1})\n"
   ]
  },
  {
   "cell_type": "markdown",
   "metadata": {},
   "source": [
    "XGB"
   ]
  },
  {
   "cell_type": "code",
   "execution_count": 153,
   "metadata": {},
   "outputs": [],
   "source": [
    "from sklearn.model_selection import StratifiedKFold\n",
    "from sklearn.metrics import precision_score , recall_score , f1_score\n",
    "from sklearn.model_selection import cross_val_score\n",
    "from bayes_opt import BayesianOptimization\n",
    "import xgboost as xgb\n"
   ]
  },
  {
   "cell_type": "markdown",
   "metadata": {},
   "source": [
    "using bayesian optimizer to find the best hyper parameters available"
   ]
  },
  {
   "cell_type": "code",
   "execution_count": 154,
   "metadata": {},
   "outputs": [],
   "source": [
    "def xgb_csv(max_depth , learning_rate , n_estimators , gamma , min_child_weight, subsample , colsample_bytree):\n",
    "    params = {\n",
    "        'max_depth' : int(max_depth),\n",
    "        'learning_rate' : learning_rate,\n",
    "        'n_estimators' : int(n_estimators),\n",
    "        'gamma' : gamma,\n",
    "        'min_child_weight' : min_child_weight,\n",
    "        'subsample' : subsample,\n",
    "        'colsample_bytree' : colsample_bytree,\n",
    "        'objective' : 'binary:logistic',\n",
    "        'eval_metric' : 'logloss'\n",
    "\n",
    "    } \n",
    "\n",
    "    cv_results = cross_val_score(\n",
    "        xgb.XGBClassifier(**params),\n",
    "        x_train , y_train,\n",
    "        scoring='accuracy',\n",
    "        cv=5\n",
    "    )\n",
    "\n",
    "    return cv_results.mean()"
   ]
  },
  {
   "cell_type": "markdown",
   "metadata": {},
   "source": [
    "set the range for hyperparameters and initialize bayesian optimization\n"
   ]
  },
  {
   "cell_type": "code",
   "execution_count": 155,
   "metadata": {},
   "outputs": [],
   "source": [
    "pbounds = {\n",
    "       'max_depth': (3, 10),\n",
    "    'learning_rate': (0.01, 0.05),\n",
    "    'n_estimators': (50, 500),\n",
    "    'gamma': (0, 5),\n",
    "    'min_child_weight': (1, 10),\n",
    "    'subsample': (0.5, 1),\n",
    "    'colsample_bytree': (0.5, 1)\n",
    "}\n",
    "\n",
    "optimizer = BayesianOptimization(\n",
    "    f=xgb_csv,\n",
    "    pbounds = pbounds,\n",
    "    random_state = 42\n",
    "\n",
    ")"
   ]
  },
  {
   "cell_type": "markdown",
   "metadata": {},
   "source": [
    "run the optimization"
   ]
  },
  {
   "cell_type": "code",
   "execution_count": 156,
   "metadata": {},
   "outputs": [
    {
     "name": "stdout",
     "output_type": "stream",
     "text": [
      "|   iter    |  target   | colsam... |   gamma   | learni... | max_depth | min_ch... | n_esti... | subsample |\n",
      "-------------------------------------------------------------------------------------------------------------\n",
      "| \u001b[39m1        \u001b[39m | \u001b[39m0.9719   \u001b[39m | \u001b[39m0.6873   \u001b[39m | \u001b[39m4.754    \u001b[39m | \u001b[39m0.03928  \u001b[39m | \u001b[39m7.191    \u001b[39m | \u001b[39m2.404    \u001b[39m | \u001b[39m120.2    \u001b[39m | \u001b[39m0.529    \u001b[39m |\n",
      "| \u001b[39m2        \u001b[39m | \u001b[39m0.9415   \u001b[39m | \u001b[39m0.9331   \u001b[39m | \u001b[39m3.006    \u001b[39m | \u001b[39m0.03832  \u001b[39m | \u001b[39m3.144    \u001b[39m | \u001b[39m9.729    \u001b[39m | \u001b[39m424.6    \u001b[39m | \u001b[39m0.6062   \u001b[39m |\n",
      "| \u001b[39m3        \u001b[39m | \u001b[39m0.9708   \u001b[39m | \u001b[39m0.5909   \u001b[39m | \u001b[39m0.917    \u001b[39m | \u001b[39m0.02217  \u001b[39m | \u001b[39m6.673    \u001b[39m | \u001b[39m4.888    \u001b[39m | \u001b[39m181.1    \u001b[39m | \u001b[39m0.8059   \u001b[39m |\n",
      "| \u001b[39m4        \u001b[39m | \u001b[39m0.9542   \u001b[39m | \u001b[39m0.5697   \u001b[39m | \u001b[39m1.461    \u001b[39m | \u001b[39m0.02465  \u001b[39m | \u001b[39m6.192    \u001b[39m | \u001b[39m8.067    \u001b[39m | \u001b[39m139.9    \u001b[39m | \u001b[39m0.7571   \u001b[39m |\n",
      "| \u001b[35m5        \u001b[39m | \u001b[35m0.984    \u001b[39m | \u001b[35m0.7962   \u001b[39m | \u001b[35m0.2323   \u001b[39m | \u001b[35m0.0343   \u001b[39m | \u001b[35m4.194    \u001b[39m | \u001b[35m1.585    \u001b[39m | \u001b[35m477.0    \u001b[39m | \u001b[35m0.9828   \u001b[39m |\n",
      "| \u001b[39m6        \u001b[39m | \u001b[39m0.9586   \u001b[39m | \u001b[39m0.9042   \u001b[39m | \u001b[39m1.523    \u001b[39m | \u001b[39m0.01391  \u001b[39m | \u001b[39m7.79     \u001b[39m | \u001b[39m4.961    \u001b[39m | \u001b[39m104.9    \u001b[39m | \u001b[39m0.7476   \u001b[39m |\n",
      "| \u001b[39m7        \u001b[39m | \u001b[39m0.9724   \u001b[39m | \u001b[39m0.5172   \u001b[39m | \u001b[39m4.547    \u001b[39m | \u001b[39m0.02035  \u001b[39m | \u001b[39m7.638    \u001b[39m | \u001b[39m3.805    \u001b[39m | \u001b[39m284.0    \u001b[39m | \u001b[39m0.7734   \u001b[39m |\n",
      "| \u001b[39m8        \u001b[39m | \u001b[39m0.963    \u001b[39m | \u001b[39m0.5924   \u001b[39m | \u001b[39m4.848    \u001b[39m | \u001b[39m0.04101  \u001b[39m | \u001b[39m9.576    \u001b[39m | \u001b[39m9.053    \u001b[39m | \u001b[39m319.1    \u001b[39m | \u001b[39m0.9609   \u001b[39m |\n",
      "| \u001b[39m9        \u001b[39m | \u001b[39m0.9708   \u001b[39m | \u001b[39m0.5442   \u001b[39m | \u001b[39m0.9799   \u001b[39m | \u001b[39m0.01181  \u001b[39m | \u001b[39m5.277    \u001b[39m | \u001b[39m4.498    \u001b[39m | \u001b[39m172.1    \u001b[39m | \u001b[39m0.9144   \u001b[39m |\n",
      "| \u001b[39m10       \u001b[39m | \u001b[39m0.9575   \u001b[39m | \u001b[39m0.6784   \u001b[39m | \u001b[39m1.405    \u001b[39m | \u001b[39m0.03171  \u001b[39m | \u001b[39m3.986    \u001b[39m | \u001b[39m8.22     \u001b[39m | \u001b[39m83.55    \u001b[39m | \u001b[39m0.9934   \u001b[39m |\n",
      "| \u001b[39m11       \u001b[39m | \u001b[39m0.9741   \u001b[39m | \u001b[39m0.5334   \u001b[39m | \u001b[39m0.04341  \u001b[39m | \u001b[39m0.01633  \u001b[39m | \u001b[39m9.163    \u001b[39m | \u001b[39m3.159    \u001b[39m | \u001b[39m486.6    \u001b[39m | \u001b[39m0.7986   \u001b[39m |\n",
      "| \u001b[39m12       \u001b[39m | \u001b[39m0.9785   \u001b[39m | \u001b[39m0.9389   \u001b[39m | \u001b[39m0.236    \u001b[39m | \u001b[39m0.03486  \u001b[39m | \u001b[39m3.699    \u001b[39m | \u001b[39m1.508    \u001b[39m | \u001b[39m476.4    \u001b[39m | \u001b[39m0.6112   \u001b[39m |\n",
      "| \u001b[39m13       \u001b[39m | \u001b[39m0.9823   \u001b[39m | \u001b[39m0.6875   \u001b[39m | \u001b[39m0.6845   \u001b[39m | \u001b[39m0.01345  \u001b[39m | \u001b[39m5.858    \u001b[39m | \u001b[39m1.26     \u001b[39m | \u001b[39m478.6    \u001b[39m | \u001b[39m0.6794   \u001b[39m |\n",
      "| \u001b[39m14       \u001b[39m | \u001b[39m0.9697   \u001b[39m | \u001b[39m0.5702   \u001b[39m | \u001b[39m2.362    \u001b[39m | \u001b[39m0.02998  \u001b[39m | \u001b[39m3.694    \u001b[39m | \u001b[39m3.997    \u001b[39m | \u001b[39m479.6    \u001b[39m | \u001b[39m0.9518   \u001b[39m |\n",
      "| \u001b[39m15       \u001b[39m | \u001b[39m0.9708   \u001b[39m | \u001b[39m0.9236   \u001b[39m | \u001b[39m0.2229   \u001b[39m | \u001b[39m0.02412  \u001b[39m | \u001b[39m6.407    \u001b[39m | \u001b[39m4.062    \u001b[39m | \u001b[39m477.1    \u001b[39m | \u001b[39m0.8208   \u001b[39m |\n",
      "| \u001b[39m16       \u001b[39m | \u001b[39m0.9823   \u001b[39m | \u001b[39m0.7058   \u001b[39m | \u001b[39m0.2799   \u001b[39m | \u001b[39m0.02269  \u001b[39m | \u001b[39m4.772    \u001b[39m | \u001b[39m1.258    \u001b[39m | \u001b[39m483.5    \u001b[39m | \u001b[39m0.6561   \u001b[39m |\n",
      "| \u001b[39m17       \u001b[39m | \u001b[39m0.9818   \u001b[39m | \u001b[39m0.5727   \u001b[39m | \u001b[39m1.206    \u001b[39m | \u001b[39m0.02441  \u001b[39m | \u001b[39m3.503    \u001b[39m | \u001b[39m1.411    \u001b[39m | \u001b[39m486.3    \u001b[39m | \u001b[39m0.8341   \u001b[39m |\n",
      "| \u001b[39m18       \u001b[39m | \u001b[39m0.9779   \u001b[39m | \u001b[39m0.8587   \u001b[39m | \u001b[39m4.31     \u001b[39m | \u001b[39m0.03847  \u001b[39m | \u001b[39m7.171    \u001b[39m | \u001b[39m1.359    \u001b[39m | \u001b[39m484.3    \u001b[39m | \u001b[39m0.8057   \u001b[39m |\n",
      "| \u001b[39m19       \u001b[39m | \u001b[39m0.9636   \u001b[39m | \u001b[39m0.8722   \u001b[39m | \u001b[39m2.142    \u001b[39m | \u001b[39m0.04917  \u001b[39m | \u001b[39m3.717    \u001b[39m | \u001b[39m5.565    \u001b[39m | \u001b[39m486.5    \u001b[39m | \u001b[39m0.7253   \u001b[39m |\n",
      "| \u001b[35m20       \u001b[39m | \u001b[35m0.9851   \u001b[39m | \u001b[35m0.5769   \u001b[39m | \u001b[35m1.237    \u001b[39m | \u001b[35m0.03922  \u001b[39m | \u001b[35m6.516    \u001b[39m | \u001b[35m1.421    \u001b[39m | \u001b[35m489.4    \u001b[39m | \u001b[35m0.9954   \u001b[39m |\n",
      "| \u001b[39m21       \u001b[39m | \u001b[39m0.9752   \u001b[39m | \u001b[39m0.7641   \u001b[39m | \u001b[39m4.181    \u001b[39m | \u001b[39m0.04341  \u001b[39m | \u001b[39m5.635    \u001b[39m | \u001b[39m1.58     \u001b[39m | \u001b[39m489.8    \u001b[39m | \u001b[39m0.5462   \u001b[39m |\n",
      "| \u001b[39m22       \u001b[39m | \u001b[39m0.9757   \u001b[39m | \u001b[39m0.6894   \u001b[39m | \u001b[39m0.2106   \u001b[39m | \u001b[39m0.04727  \u001b[39m | \u001b[39m4.271    \u001b[39m | \u001b[39m2.735    \u001b[39m | \u001b[39m491.1    \u001b[39m | \u001b[39m0.889    \u001b[39m |\n",
      "| \u001b[39m23       \u001b[39m | \u001b[39m0.9823   \u001b[39m | \u001b[39m0.9431   \u001b[39m | \u001b[39m0.02563  \u001b[39m | \u001b[39m0.01637  \u001b[39m | \u001b[39m9.957    \u001b[39m | \u001b[39m1.044    \u001b[39m | \u001b[39m490.4    \u001b[39m | \u001b[39m0.5163   \u001b[39m |\n",
      "| \u001b[39m24       \u001b[39m | \u001b[39m0.9851   \u001b[39m | \u001b[39m0.8898   \u001b[39m | \u001b[39m0.2608   \u001b[39m | \u001b[39m0.04607  \u001b[39m | \u001b[39m9.089    \u001b[39m | \u001b[39m1.472    \u001b[39m | \u001b[39m494.6    \u001b[39m | \u001b[39m0.8525   \u001b[39m |\n",
      "| \u001b[39m25       \u001b[39m | \u001b[39m0.9801   \u001b[39m | \u001b[39m0.8824   \u001b[39m | \u001b[39m4.13     \u001b[39m | \u001b[39m0.01894  \u001b[39m | \u001b[39m8.767    \u001b[39m | \u001b[39m1.07     \u001b[39m | \u001b[39m497.1    \u001b[39m | \u001b[39m0.9883   \u001b[39m |\n",
      "| \u001b[39m26       \u001b[39m | \u001b[39m0.9586   \u001b[39m | \u001b[39m0.5349   \u001b[39m | \u001b[39m0.7981   \u001b[39m | \u001b[39m0.01001  \u001b[39m | \u001b[39m9.273    \u001b[39m | \u001b[39m5.791    \u001b[39m | \u001b[39m496.1    \u001b[39m | \u001b[39m0.5543   \u001b[39m |\n",
      "| \u001b[39m27       \u001b[39m | \u001b[39m0.979    \u001b[39m | \u001b[39m0.7409   \u001b[39m | \u001b[39m4.207    \u001b[39m | \u001b[39m0.03979  \u001b[39m | \u001b[39m9.862    \u001b[39m | \u001b[39m1.251    \u001b[39m | \u001b[39m491.2    \u001b[39m | \u001b[39m0.6014   \u001b[39m |\n",
      "| \u001b[39m28       \u001b[39m | \u001b[39m0.9823   \u001b[39m | \u001b[39m0.913    \u001b[39m | \u001b[39m1.662    \u001b[39m | \u001b[39m0.01581  \u001b[39m | \u001b[39m5.638    \u001b[39m | \u001b[39m1.176    \u001b[39m | \u001b[39m497.4    \u001b[39m | \u001b[39m0.7463   \u001b[39m |\n",
      "| \u001b[39m29       \u001b[39m | \u001b[39m0.9542   \u001b[39m | \u001b[39m0.9524   \u001b[39m | \u001b[39m0.3562   \u001b[39m | \u001b[39m0.03616  \u001b[39m | \u001b[39m9.998    \u001b[39m | \u001b[39m8.921    \u001b[39m | \u001b[39m235.7    \u001b[39m | \u001b[39m0.7347   \u001b[39m |\n",
      "| \u001b[35m30       \u001b[39m | \u001b[35m0.9868   \u001b[39m | \u001b[35m0.5985   \u001b[39m | \u001b[35m0.7864   \u001b[39m | \u001b[35m0.04041  \u001b[39m | \u001b[35m6.719    \u001b[39m | \u001b[35m1.086    \u001b[39m | \u001b[35m493.1    \u001b[39m | \u001b[35m0.7211   \u001b[39m |\n",
      "| \u001b[39m31       \u001b[39m | \u001b[39m0.9388   \u001b[39m | \u001b[39m0.8034   \u001b[39m | \u001b[39m1.064    \u001b[39m | \u001b[39m0.04039  \u001b[39m | \u001b[39m4.194    \u001b[39m | \u001b[39m9.596    \u001b[39m | \u001b[39m268.8    \u001b[39m | \u001b[39m0.5393   \u001b[39m |\n",
      "| \u001b[39m32       \u001b[39m | \u001b[39m0.9829   \u001b[39m | \u001b[39m0.5673   \u001b[39m | \u001b[39m1.002    \u001b[39m | \u001b[39m0.02492  \u001b[39m | \u001b[39m4.22     \u001b[39m | \u001b[39m1.226    \u001b[39m | \u001b[39m295.6    \u001b[39m | \u001b[39m0.864    \u001b[39m |\n",
      "| \u001b[39m33       \u001b[39m | \u001b[39m0.9741   \u001b[39m | \u001b[39m0.6253   \u001b[39m | \u001b[39m0.2635   \u001b[39m | \u001b[39m0.02813  \u001b[39m | \u001b[39m9.792    \u001b[39m | \u001b[39m3.48     \u001b[39m | \u001b[39m297.9    \u001b[39m | \u001b[39m0.9044   \u001b[39m |\n",
      "| \u001b[39m34       \u001b[39m | \u001b[39m0.952    \u001b[39m | \u001b[39m0.8655   \u001b[39m | \u001b[39m4.046    \u001b[39m | \u001b[39m0.01326  \u001b[39m | \u001b[39m3.331    \u001b[39m | \u001b[39m6.524    \u001b[39m | \u001b[39m294.5    \u001b[39m | \u001b[39m0.5228   \u001b[39m |\n",
      "| \u001b[39m35       \u001b[39m | \u001b[39m0.984    \u001b[39m | \u001b[39m0.7028   \u001b[39m | \u001b[39m0.4766   \u001b[39m | \u001b[39m0.03975  \u001b[39m | \u001b[39m4.893    \u001b[39m | \u001b[39m1.448    \u001b[39m | \u001b[39m302.3    \u001b[39m | \u001b[39m0.9415   \u001b[39m |\n",
      "| \u001b[39m36       \u001b[39m | \u001b[39m0.9857   \u001b[39m | \u001b[39m0.616    \u001b[39m | \u001b[39m0.7114   \u001b[39m | \u001b[39m0.03481  \u001b[39m | \u001b[39m7.711    \u001b[39m | \u001b[39m1.497    \u001b[39m | \u001b[39m307.9    \u001b[39m | \u001b[39m0.7906   \u001b[39m |\n",
      "| \u001b[39m37       \u001b[39m | \u001b[39m0.9735   \u001b[39m | \u001b[39m0.6085   \u001b[39m | \u001b[39m3.238    \u001b[39m | \u001b[39m0.03775  \u001b[39m | \u001b[39m3.264    \u001b[39m | \u001b[39m2.691    \u001b[39m | \u001b[39m308.7    \u001b[39m | \u001b[39m0.6298   \u001b[39m |\n",
      "| \u001b[39m38       \u001b[39m | \u001b[39m0.9746   \u001b[39m | \u001b[39m0.7109   \u001b[39m | \u001b[39m4.958    \u001b[39m | \u001b[39m0.049    \u001b[39m | \u001b[39m9.189    \u001b[39m | \u001b[39m2.343    \u001b[39m | \u001b[39m304.2    \u001b[39m | \u001b[39m0.7759   \u001b[39m |\n",
      "| \u001b[39m39       \u001b[39m | \u001b[39m0.9652   \u001b[39m | \u001b[39m0.7393   \u001b[39m | \u001b[39m0.4108   \u001b[39m | \u001b[39m0.03426  \u001b[39m | \u001b[39m9.853    \u001b[39m | \u001b[39m6.315    \u001b[39m | \u001b[39m310.4    \u001b[39m | \u001b[39m0.9339   \u001b[39m |\n",
      "| \u001b[39m40       \u001b[39m | \u001b[39m0.9812   \u001b[39m | \u001b[39m0.8096   \u001b[39m | \u001b[39m2.452    \u001b[39m | \u001b[39m0.04292  \u001b[39m | \u001b[39m3.497    \u001b[39m | \u001b[39m1.255    \u001b[39m | \u001b[39m370.2    \u001b[39m | \u001b[39m0.9049   \u001b[39m |\n",
      "| \u001b[39m41       \u001b[39m | \u001b[39m0.9564   \u001b[39m | \u001b[39m0.5138   \u001b[39m | \u001b[39m0.4386   \u001b[39m | \u001b[39m0.02242  \u001b[39m | \u001b[39m3.518    \u001b[39m | \u001b[39m6.453    \u001b[39m | \u001b[39m366.7    \u001b[39m | \u001b[39m0.5615   \u001b[39m |\n",
      "| \u001b[39m42       \u001b[39m | \u001b[39m0.9785   \u001b[39m | \u001b[39m0.782    \u001b[39m | \u001b[39m4.686    \u001b[39m | \u001b[39m0.04302  \u001b[39m | \u001b[39m5.804    \u001b[39m | \u001b[39m1.202    \u001b[39m | \u001b[39m375.1    \u001b[39m | \u001b[39m0.763    \u001b[39m |\n",
      "| \u001b[39m43       \u001b[39m | \u001b[39m0.979    \u001b[39m | \u001b[39m0.696    \u001b[39m | \u001b[39m4.353    \u001b[39m | \u001b[39m0.04918  \u001b[39m | \u001b[39m9.795    \u001b[39m | \u001b[39m1.556    \u001b[39m | \u001b[39m369.2    \u001b[39m | \u001b[39m0.6996   \u001b[39m |\n",
      "| \u001b[39m44       \u001b[39m | \u001b[39m0.979    \u001b[39m | \u001b[39m0.8399   \u001b[39m | \u001b[39m0.1021   \u001b[39m | \u001b[39m0.0265   \u001b[39m | \u001b[39m9.375    \u001b[39m | \u001b[39m2.102    \u001b[39m | \u001b[39m374.7    \u001b[39m | \u001b[39m0.8001   \u001b[39m |\n",
      "| \u001b[39m45       \u001b[39m | \u001b[39m0.9779   \u001b[39m | \u001b[39m0.9025   \u001b[39m | \u001b[39m0.179    \u001b[39m | \u001b[39m0.01531  \u001b[39m | \u001b[39m3.253    \u001b[39m | \u001b[39m1.254    \u001b[39m | \u001b[39m379.8    \u001b[39m | \u001b[39m0.9159   \u001b[39m |\n",
      "| \u001b[39m46       \u001b[39m | \u001b[39m0.9708   \u001b[39m | \u001b[39m0.5313   \u001b[39m | \u001b[39m1.774    \u001b[39m | \u001b[39m0.02195  \u001b[39m | \u001b[39m9.183    \u001b[39m | \u001b[39m4.644    \u001b[39m | \u001b[39m382.3    \u001b[39m | \u001b[39m0.7547   \u001b[39m |\n",
      "| \u001b[39m47       \u001b[39m | \u001b[39m0.9752   \u001b[39m | \u001b[39m0.9848   \u001b[39m | \u001b[39m0.5169   \u001b[39m | \u001b[39m0.0445   \u001b[39m | \u001b[39m9.282    \u001b[39m | \u001b[39m1.955    \u001b[39m | \u001b[39m304.5    \u001b[39m | \u001b[39m0.5716   \u001b[39m |\n",
      "| \u001b[39m48       \u001b[39m | \u001b[39m0.9641   \u001b[39m | \u001b[39m0.7114   \u001b[39m | \u001b[39m3.453    \u001b[39m | \u001b[39m0.04483  \u001b[39m | \u001b[39m3.116    \u001b[39m | \u001b[39m6.852    \u001b[39m | \u001b[39m377.0    \u001b[39m | \u001b[39m0.7762   \u001b[39m |\n",
      "| \u001b[35m49       \u001b[39m | \u001b[35m0.9873   \u001b[39m | \u001b[35m0.6876   \u001b[39m | \u001b[35m0.1516   \u001b[39m | \u001b[35m0.02992  \u001b[39m | \u001b[35m8.222    \u001b[39m | \u001b[35m1.003    \u001b[39m | \u001b[35m289.5    \u001b[39m | \u001b[35m0.8819   \u001b[39m |\n",
      "| \u001b[39m50       \u001b[39m | \u001b[39m0.9796   \u001b[39m | \u001b[39m0.7216   \u001b[39m | \u001b[39m0.327    \u001b[39m | \u001b[39m0.04785  \u001b[39m | \u001b[39m4.992    \u001b[39m | \u001b[39m1.28     \u001b[39m | \u001b[39m290.6    \u001b[39m | \u001b[39m0.5316   \u001b[39m |\n",
      "| \u001b[39m51       \u001b[39m | \u001b[39m0.9801   \u001b[39m | \u001b[39m0.5188   \u001b[39m | \u001b[39m4.328    \u001b[39m | \u001b[39m0.01756  \u001b[39m | \u001b[39m9.631    \u001b[39m | \u001b[39m1.769    \u001b[39m | \u001b[39m291.5    \u001b[39m | \u001b[39m0.8925   \u001b[39m |\n",
      "| \u001b[39m52       \u001b[39m | \u001b[39m0.9746   \u001b[39m | \u001b[39m0.6555   \u001b[39m | \u001b[39m0.73     \u001b[39m | \u001b[39m0.02015  \u001b[39m | \u001b[39m8.404    \u001b[39m | \u001b[39m1.029    \u001b[39m | \u001b[39m50.42    \u001b[39m | \u001b[39m0.7015   \u001b[39m |\n",
      "| \u001b[39m53       \u001b[39m | \u001b[39m0.9332   \u001b[39m | \u001b[39m0.7043   \u001b[39m | \u001b[39m2.547    \u001b[39m | \u001b[39m0.0292   \u001b[39m | \u001b[39m4.58     \u001b[39m | \u001b[39m8.345    \u001b[39m | \u001b[39m56.53    \u001b[39m | \u001b[39m0.5057   \u001b[39m |\n",
      "| \u001b[39m54       \u001b[39m | \u001b[39m0.9796   \u001b[39m | \u001b[39m0.618    \u001b[39m | \u001b[39m0.3163   \u001b[39m | \u001b[39m0.01544  \u001b[39m | \u001b[39m4.464    \u001b[39m | \u001b[39m1.009    \u001b[39m | \u001b[39m395.7    \u001b[39m | \u001b[39m0.6756   \u001b[39m |\n",
      "| \u001b[39m55       \u001b[39m | \u001b[39m0.979    \u001b[39m | \u001b[39m0.5146   \u001b[39m | \u001b[39m0.7955   \u001b[39m | \u001b[39m0.03833  \u001b[39m | \u001b[39m9.635    \u001b[39m | \u001b[39m2.553    \u001b[39m | \u001b[39m402.0    \u001b[39m | \u001b[39m0.8944   \u001b[39m |\n",
      "| \u001b[39m56       \u001b[39m | \u001b[39m0.9636   \u001b[39m | \u001b[39m0.909    \u001b[39m | \u001b[39m4.047    \u001b[39m | \u001b[39m0.04827  \u001b[39m | \u001b[39m3.482    \u001b[39m | \u001b[39m6.175    \u001b[39m | \u001b[39m400.3    \u001b[39m | \u001b[39m0.7183   \u001b[39m |\n",
      "| \u001b[39m57       \u001b[39m | \u001b[39m0.9829   \u001b[39m | \u001b[39m0.7324   \u001b[39m | \u001b[39m0.8024   \u001b[39m | \u001b[39m0.03683  \u001b[39m | \u001b[39m9.646    \u001b[39m | \u001b[39m1.755    \u001b[39m | \u001b[39m393.3    \u001b[39m | \u001b[39m0.8042   \u001b[39m |\n",
      "| \u001b[39m58       \u001b[39m | \u001b[39m0.9779   \u001b[39m | \u001b[39m0.8798   \u001b[39m | \u001b[39m4.539    \u001b[39m | \u001b[39m0.01824  \u001b[39m | \u001b[39m3.338    \u001b[39m | \u001b[39m1.183    \u001b[39m | \u001b[39m390.1    \u001b[39m | \u001b[39m0.8711   \u001b[39m |\n",
      "| \u001b[39m59       \u001b[39m | \u001b[39m0.9658   \u001b[39m | \u001b[39m0.5658   \u001b[39m | \u001b[39m0.1958   \u001b[39m | \u001b[39m0.01485  \u001b[39m | \u001b[39m5.355    \u001b[39m | \u001b[39m6.713    \u001b[39m | \u001b[39m390.7    \u001b[39m | \u001b[39m0.8032   \u001b[39m |\n",
      "| \u001b[39m60       \u001b[39m | \u001b[39m0.9757   \u001b[39m | \u001b[39m0.8597   \u001b[39m | \u001b[39m4.349    \u001b[39m | \u001b[39m0.02945  \u001b[39m | \u001b[39m9.732    \u001b[39m | \u001b[39m1.785    \u001b[39m | \u001b[39m396.7    \u001b[39m | \u001b[39m0.6886   \u001b[39m |\n",
      "=============================================================================================================\n",
      "{'target': np.float64(0.9873126036862854), 'params': {'colsample_bytree': np.float64(0.6875760635879894), 'gamma': np.float64(0.15163263655810333), 'learning_rate': np.float64(0.029923689735900552), 'max_depth': np.float64(8.222271942435441), 'min_child_weight': np.float64(1.0026864337114683), 'n_estimators': np.float64(289.52342829152406), 'subsample': np.float64(0.8818589329767135)}}\n"
     ]
    }
   ],
   "source": [
    "optimizer.maximize(\n",
    "    init_points = 10,\n",
    "    n_iter = 50\n",
    ")\n",
    "\n",
    "print(optimizer.max)"
   ]
  },
  {
   "cell_type": "code",
   "execution_count": 157,
   "metadata": {},
   "outputs": [],
   "source": [
    "x_test1 = x_test\n",
    "y_test1 = y_test"
   ]
  },
  {
   "cell_type": "code",
   "execution_count": 158,
   "metadata": {},
   "outputs": [
    {
     "name": "stdout",
     "output_type": "stream",
     "text": [
      "Mean Precision on training data: 0.9896\n",
      "Mean Recall on training data: 0.9626\n",
      "Mean F1-Score on training data: 0.9759\n"
     ]
    }
   ],
   "source": [
    "import xgboost as xgb\n",
    "import numpy as np\n",
    "from sklearn.model_selection import cross_val_score, StratifiedKFold\n",
    "from sklearn.metrics import make_scorer, precision_score, recall_score, f1_score\n",
    "\n",
    "# Your parameters\n",
    "params = {\n",
    "    'max_depth': 3,\n",
    "    'eta': 0.1,\n",
    "    'objective': 'binary:logistic',\n",
    "    'eval_metric': 'logloss',\n",
    "    'colsample_bytree': 0.6717631725634154, \n",
    "    'gamma': 0.9096345081271928,\n",
    "    'learning_rate': 0.01470760158590112,\n",
    "    'max_depth': 9,  # Changed from float to int\n",
    "    'min_child_weight': 1.1649091583091502,\n",
    "    'n_estimators': 279,  # Changed from float to int\n",
    "    'subsample': 0.7862055881719434\n",
    "}\n",
    "\n",
    "# Initialize model\n",
    "model = xgb.XGBClassifier(**params)\n",
    "\n",
    "# Define scoring metrics\n",
    "scoring = {\n",
    "    'precision': make_scorer(precision_score),\n",
    "    'recall': make_scorer(recall_score),\n",
    "    'f1': make_scorer(f1_score)\n",
    "}\n",
    "\n",
    "# Initialize k-fold cross validation\n",
    "skf = StratifiedKFold(n_splits=5, shuffle=True, random_state=42)\n",
    "\n",
    "# Perform cross-validation for each metric\n",
    "precision_scores = cross_val_score(model, x_train, y_train, scoring=scoring['precision'], cv=skf)\n",
    "recall_scores = cross_val_score(model, x_train, y_train, scoring=scoring['recall'], cv=skf)\n",
    "f1_scores = cross_val_score(model, x_train, y_train, scoring=scoring['f1'], cv=skf)\n",
    "\n",
    "# Print results\n",
    "print(f\"Mean Precision on training data: {np.mean(precision_scores):.4f}\")\n",
    "print(f\"Mean Recall on training data: {np.mean(recall_scores):.4f}\")\n",
    "print(f\"Mean F1-Score on training data: {np.mean(f1_scores):.4f}\")"
   ]
  },
  {
   "cell_type": "code",
   "execution_count": 159,
   "metadata": {},
   "outputs": [
    {
     "name": "stdout",
     "output_type": "stream",
     "text": [
      "(1813, 4615)\n",
      "(454, 4615)\n"
     ]
    }
   ],
   "source": [
    "print(x_train.shape)\n",
    "print(x_test.shape)"
   ]
  },
  {
   "cell_type": "code",
   "execution_count": 160,
   "metadata": {},
   "outputs": [
    {
     "data": {
      "text/html": [
       "<style>#sk-container-id-2 {\n",
       "  /* Definition of color scheme common for light and dark mode */\n",
       "  --sklearn-color-text: #000;\n",
       "  --sklearn-color-text-muted: #666;\n",
       "  --sklearn-color-line: gray;\n",
       "  /* Definition of color scheme for unfitted estimators */\n",
       "  --sklearn-color-unfitted-level-0: #fff5e6;\n",
       "  --sklearn-color-unfitted-level-1: #f6e4d2;\n",
       "  --sklearn-color-unfitted-level-2: #ffe0b3;\n",
       "  --sklearn-color-unfitted-level-3: chocolate;\n",
       "  /* Definition of color scheme for fitted estimators */\n",
       "  --sklearn-color-fitted-level-0: #f0f8ff;\n",
       "  --sklearn-color-fitted-level-1: #d4ebff;\n",
       "  --sklearn-color-fitted-level-2: #b3dbfd;\n",
       "  --sklearn-color-fitted-level-3: cornflowerblue;\n",
       "\n",
       "  /* Specific color for light theme */\n",
       "  --sklearn-color-text-on-default-background: var(--sg-text-color, var(--theme-code-foreground, var(--jp-content-font-color1, black)));\n",
       "  --sklearn-color-background: var(--sg-background-color, var(--theme-background, var(--jp-layout-color0, white)));\n",
       "  --sklearn-color-border-box: var(--sg-text-color, var(--theme-code-foreground, var(--jp-content-font-color1, black)));\n",
       "  --sklearn-color-icon: #696969;\n",
       "\n",
       "  @media (prefers-color-scheme: dark) {\n",
       "    /* Redefinition of color scheme for dark theme */\n",
       "    --sklearn-color-text-on-default-background: var(--sg-text-color, var(--theme-code-foreground, var(--jp-content-font-color1, white)));\n",
       "    --sklearn-color-background: var(--sg-background-color, var(--theme-background, var(--jp-layout-color0, #111)));\n",
       "    --sklearn-color-border-box: var(--sg-text-color, var(--theme-code-foreground, var(--jp-content-font-color1, white)));\n",
       "    --sklearn-color-icon: #878787;\n",
       "  }\n",
       "}\n",
       "\n",
       "#sk-container-id-2 {\n",
       "  color: var(--sklearn-color-text);\n",
       "}\n",
       "\n",
       "#sk-container-id-2 pre {\n",
       "  padding: 0;\n",
       "}\n",
       "\n",
       "#sk-container-id-2 input.sk-hidden--visually {\n",
       "  border: 0;\n",
       "  clip: rect(1px 1px 1px 1px);\n",
       "  clip: rect(1px, 1px, 1px, 1px);\n",
       "  height: 1px;\n",
       "  margin: -1px;\n",
       "  overflow: hidden;\n",
       "  padding: 0;\n",
       "  position: absolute;\n",
       "  width: 1px;\n",
       "}\n",
       "\n",
       "#sk-container-id-2 div.sk-dashed-wrapped {\n",
       "  border: 1px dashed var(--sklearn-color-line);\n",
       "  margin: 0 0.4em 0.5em 0.4em;\n",
       "  box-sizing: border-box;\n",
       "  padding-bottom: 0.4em;\n",
       "  background-color: var(--sklearn-color-background);\n",
       "}\n",
       "\n",
       "#sk-container-id-2 div.sk-container {\n",
       "  /* jupyter's `normalize.less` sets `[hidden] { display: none; }`\n",
       "     but bootstrap.min.css set `[hidden] { display: none !important; }`\n",
       "     so we also need the `!important` here to be able to override the\n",
       "     default hidden behavior on the sphinx rendered scikit-learn.org.\n",
       "     See: https://github.com/scikit-learn/scikit-learn/issues/21755 */\n",
       "  display: inline-block !important;\n",
       "  position: relative;\n",
       "}\n",
       "\n",
       "#sk-container-id-2 div.sk-text-repr-fallback {\n",
       "  display: none;\n",
       "}\n",
       "\n",
       "div.sk-parallel-item,\n",
       "div.sk-serial,\n",
       "div.sk-item {\n",
       "  /* draw centered vertical line to link estimators */\n",
       "  background-image: linear-gradient(var(--sklearn-color-text-on-default-background), var(--sklearn-color-text-on-default-background));\n",
       "  background-size: 2px 100%;\n",
       "  background-repeat: no-repeat;\n",
       "  background-position: center center;\n",
       "}\n",
       "\n",
       "/* Parallel-specific style estimator block */\n",
       "\n",
       "#sk-container-id-2 div.sk-parallel-item::after {\n",
       "  content: \"\";\n",
       "  width: 100%;\n",
       "  border-bottom: 2px solid var(--sklearn-color-text-on-default-background);\n",
       "  flex-grow: 1;\n",
       "}\n",
       "\n",
       "#sk-container-id-2 div.sk-parallel {\n",
       "  display: flex;\n",
       "  align-items: stretch;\n",
       "  justify-content: center;\n",
       "  background-color: var(--sklearn-color-background);\n",
       "  position: relative;\n",
       "}\n",
       "\n",
       "#sk-container-id-2 div.sk-parallel-item {\n",
       "  display: flex;\n",
       "  flex-direction: column;\n",
       "}\n",
       "\n",
       "#sk-container-id-2 div.sk-parallel-item:first-child::after {\n",
       "  align-self: flex-end;\n",
       "  width: 50%;\n",
       "}\n",
       "\n",
       "#sk-container-id-2 div.sk-parallel-item:last-child::after {\n",
       "  align-self: flex-start;\n",
       "  width: 50%;\n",
       "}\n",
       "\n",
       "#sk-container-id-2 div.sk-parallel-item:only-child::after {\n",
       "  width: 0;\n",
       "}\n",
       "\n",
       "/* Serial-specific style estimator block */\n",
       "\n",
       "#sk-container-id-2 div.sk-serial {\n",
       "  display: flex;\n",
       "  flex-direction: column;\n",
       "  align-items: center;\n",
       "  background-color: var(--sklearn-color-background);\n",
       "  padding-right: 1em;\n",
       "  padding-left: 1em;\n",
       "}\n",
       "\n",
       "\n",
       "/* Toggleable style: style used for estimator/Pipeline/ColumnTransformer box that is\n",
       "clickable and can be expanded/collapsed.\n",
       "- Pipeline and ColumnTransformer use this feature and define the default style\n",
       "- Estimators will overwrite some part of the style using the `sk-estimator` class\n",
       "*/\n",
       "\n",
       "/* Pipeline and ColumnTransformer style (default) */\n",
       "\n",
       "#sk-container-id-2 div.sk-toggleable {\n",
       "  /* Default theme specific background. It is overwritten whether we have a\n",
       "  specific estimator or a Pipeline/ColumnTransformer */\n",
       "  background-color: var(--sklearn-color-background);\n",
       "}\n",
       "\n",
       "/* Toggleable label */\n",
       "#sk-container-id-2 label.sk-toggleable__label {\n",
       "  cursor: pointer;\n",
       "  display: flex;\n",
       "  width: 100%;\n",
       "  margin-bottom: 0;\n",
       "  padding: 0.5em;\n",
       "  box-sizing: border-box;\n",
       "  text-align: center;\n",
       "  align-items: start;\n",
       "  justify-content: space-between;\n",
       "  gap: 0.5em;\n",
       "}\n",
       "\n",
       "#sk-container-id-2 label.sk-toggleable__label .caption {\n",
       "  font-size: 0.6rem;\n",
       "  font-weight: lighter;\n",
       "  color: var(--sklearn-color-text-muted);\n",
       "}\n",
       "\n",
       "#sk-container-id-2 label.sk-toggleable__label-arrow:before {\n",
       "  /* Arrow on the left of the label */\n",
       "  content: \"▸\";\n",
       "  float: left;\n",
       "  margin-right: 0.25em;\n",
       "  color: var(--sklearn-color-icon);\n",
       "}\n",
       "\n",
       "#sk-container-id-2 label.sk-toggleable__label-arrow:hover:before {\n",
       "  color: var(--sklearn-color-text);\n",
       "}\n",
       "\n",
       "/* Toggleable content - dropdown */\n",
       "\n",
       "#sk-container-id-2 div.sk-toggleable__content {\n",
       "  max-height: 0;\n",
       "  max-width: 0;\n",
       "  overflow: hidden;\n",
       "  text-align: left;\n",
       "  /* unfitted */\n",
       "  background-color: var(--sklearn-color-unfitted-level-0);\n",
       "}\n",
       "\n",
       "#sk-container-id-2 div.sk-toggleable__content.fitted {\n",
       "  /* fitted */\n",
       "  background-color: var(--sklearn-color-fitted-level-0);\n",
       "}\n",
       "\n",
       "#sk-container-id-2 div.sk-toggleable__content pre {\n",
       "  margin: 0.2em;\n",
       "  border-radius: 0.25em;\n",
       "  color: var(--sklearn-color-text);\n",
       "  /* unfitted */\n",
       "  background-color: var(--sklearn-color-unfitted-level-0);\n",
       "}\n",
       "\n",
       "#sk-container-id-2 div.sk-toggleable__content.fitted pre {\n",
       "  /* unfitted */\n",
       "  background-color: var(--sklearn-color-fitted-level-0);\n",
       "}\n",
       "\n",
       "#sk-container-id-2 input.sk-toggleable__control:checked~div.sk-toggleable__content {\n",
       "  /* Expand drop-down */\n",
       "  max-height: 200px;\n",
       "  max-width: 100%;\n",
       "  overflow: auto;\n",
       "}\n",
       "\n",
       "#sk-container-id-2 input.sk-toggleable__control:checked~label.sk-toggleable__label-arrow:before {\n",
       "  content: \"▾\";\n",
       "}\n",
       "\n",
       "/* Pipeline/ColumnTransformer-specific style */\n",
       "\n",
       "#sk-container-id-2 div.sk-label input.sk-toggleable__control:checked~label.sk-toggleable__label {\n",
       "  color: var(--sklearn-color-text);\n",
       "  background-color: var(--sklearn-color-unfitted-level-2);\n",
       "}\n",
       "\n",
       "#sk-container-id-2 div.sk-label.fitted input.sk-toggleable__control:checked~label.sk-toggleable__label {\n",
       "  background-color: var(--sklearn-color-fitted-level-2);\n",
       "}\n",
       "\n",
       "/* Estimator-specific style */\n",
       "\n",
       "/* Colorize estimator box */\n",
       "#sk-container-id-2 div.sk-estimator input.sk-toggleable__control:checked~label.sk-toggleable__label {\n",
       "  /* unfitted */\n",
       "  background-color: var(--sklearn-color-unfitted-level-2);\n",
       "}\n",
       "\n",
       "#sk-container-id-2 div.sk-estimator.fitted input.sk-toggleable__control:checked~label.sk-toggleable__label {\n",
       "  /* fitted */\n",
       "  background-color: var(--sklearn-color-fitted-level-2);\n",
       "}\n",
       "\n",
       "#sk-container-id-2 div.sk-label label.sk-toggleable__label,\n",
       "#sk-container-id-2 div.sk-label label {\n",
       "  /* The background is the default theme color */\n",
       "  color: var(--sklearn-color-text-on-default-background);\n",
       "}\n",
       "\n",
       "/* On hover, darken the color of the background */\n",
       "#sk-container-id-2 div.sk-label:hover label.sk-toggleable__label {\n",
       "  color: var(--sklearn-color-text);\n",
       "  background-color: var(--sklearn-color-unfitted-level-2);\n",
       "}\n",
       "\n",
       "/* Label box, darken color on hover, fitted */\n",
       "#sk-container-id-2 div.sk-label.fitted:hover label.sk-toggleable__label.fitted {\n",
       "  color: var(--sklearn-color-text);\n",
       "  background-color: var(--sklearn-color-fitted-level-2);\n",
       "}\n",
       "\n",
       "/* Estimator label */\n",
       "\n",
       "#sk-container-id-2 div.sk-label label {\n",
       "  font-family: monospace;\n",
       "  font-weight: bold;\n",
       "  display: inline-block;\n",
       "  line-height: 1.2em;\n",
       "}\n",
       "\n",
       "#sk-container-id-2 div.sk-label-container {\n",
       "  text-align: center;\n",
       "}\n",
       "\n",
       "/* Estimator-specific */\n",
       "#sk-container-id-2 div.sk-estimator {\n",
       "  font-family: monospace;\n",
       "  border: 1px dotted var(--sklearn-color-border-box);\n",
       "  border-radius: 0.25em;\n",
       "  box-sizing: border-box;\n",
       "  margin-bottom: 0.5em;\n",
       "  /* unfitted */\n",
       "  background-color: var(--sklearn-color-unfitted-level-0);\n",
       "}\n",
       "\n",
       "#sk-container-id-2 div.sk-estimator.fitted {\n",
       "  /* fitted */\n",
       "  background-color: var(--sklearn-color-fitted-level-0);\n",
       "}\n",
       "\n",
       "/* on hover */\n",
       "#sk-container-id-2 div.sk-estimator:hover {\n",
       "  /* unfitted */\n",
       "  background-color: var(--sklearn-color-unfitted-level-2);\n",
       "}\n",
       "\n",
       "#sk-container-id-2 div.sk-estimator.fitted:hover {\n",
       "  /* fitted */\n",
       "  background-color: var(--sklearn-color-fitted-level-2);\n",
       "}\n",
       "\n",
       "/* Specification for estimator info (e.g. \"i\" and \"?\") */\n",
       "\n",
       "/* Common style for \"i\" and \"?\" */\n",
       "\n",
       ".sk-estimator-doc-link,\n",
       "a:link.sk-estimator-doc-link,\n",
       "a:visited.sk-estimator-doc-link {\n",
       "  float: right;\n",
       "  font-size: smaller;\n",
       "  line-height: 1em;\n",
       "  font-family: monospace;\n",
       "  background-color: var(--sklearn-color-background);\n",
       "  border-radius: 1em;\n",
       "  height: 1em;\n",
       "  width: 1em;\n",
       "  text-decoration: none !important;\n",
       "  margin-left: 0.5em;\n",
       "  text-align: center;\n",
       "  /* unfitted */\n",
       "  border: var(--sklearn-color-unfitted-level-1) 1pt solid;\n",
       "  color: var(--sklearn-color-unfitted-level-1);\n",
       "}\n",
       "\n",
       ".sk-estimator-doc-link.fitted,\n",
       "a:link.sk-estimator-doc-link.fitted,\n",
       "a:visited.sk-estimator-doc-link.fitted {\n",
       "  /* fitted */\n",
       "  border: var(--sklearn-color-fitted-level-1) 1pt solid;\n",
       "  color: var(--sklearn-color-fitted-level-1);\n",
       "}\n",
       "\n",
       "/* On hover */\n",
       "div.sk-estimator:hover .sk-estimator-doc-link:hover,\n",
       ".sk-estimator-doc-link:hover,\n",
       "div.sk-label-container:hover .sk-estimator-doc-link:hover,\n",
       ".sk-estimator-doc-link:hover {\n",
       "  /* unfitted */\n",
       "  background-color: var(--sklearn-color-unfitted-level-3);\n",
       "  color: var(--sklearn-color-background);\n",
       "  text-decoration: none;\n",
       "}\n",
       "\n",
       "div.sk-estimator.fitted:hover .sk-estimator-doc-link.fitted:hover,\n",
       ".sk-estimator-doc-link.fitted:hover,\n",
       "div.sk-label-container:hover .sk-estimator-doc-link.fitted:hover,\n",
       ".sk-estimator-doc-link.fitted:hover {\n",
       "  /* fitted */\n",
       "  background-color: var(--sklearn-color-fitted-level-3);\n",
       "  color: var(--sklearn-color-background);\n",
       "  text-decoration: none;\n",
       "}\n",
       "\n",
       "/* Span, style for the box shown on hovering the info icon */\n",
       ".sk-estimator-doc-link span {\n",
       "  display: none;\n",
       "  z-index: 9999;\n",
       "  position: relative;\n",
       "  font-weight: normal;\n",
       "  right: .2ex;\n",
       "  padding: .5ex;\n",
       "  margin: .5ex;\n",
       "  width: min-content;\n",
       "  min-width: 20ex;\n",
       "  max-width: 50ex;\n",
       "  color: var(--sklearn-color-text);\n",
       "  box-shadow: 2pt 2pt 4pt #999;\n",
       "  /* unfitted */\n",
       "  background: var(--sklearn-color-unfitted-level-0);\n",
       "  border: .5pt solid var(--sklearn-color-unfitted-level-3);\n",
       "}\n",
       "\n",
       ".sk-estimator-doc-link.fitted span {\n",
       "  /* fitted */\n",
       "  background: var(--sklearn-color-fitted-level-0);\n",
       "  border: var(--sklearn-color-fitted-level-3);\n",
       "}\n",
       "\n",
       ".sk-estimator-doc-link:hover span {\n",
       "  display: block;\n",
       "}\n",
       "\n",
       "/* \"?\"-specific style due to the `<a>` HTML tag */\n",
       "\n",
       "#sk-container-id-2 a.estimator_doc_link {\n",
       "  float: right;\n",
       "  font-size: 1rem;\n",
       "  line-height: 1em;\n",
       "  font-family: monospace;\n",
       "  background-color: var(--sklearn-color-background);\n",
       "  border-radius: 1rem;\n",
       "  height: 1rem;\n",
       "  width: 1rem;\n",
       "  text-decoration: none;\n",
       "  /* unfitted */\n",
       "  color: var(--sklearn-color-unfitted-level-1);\n",
       "  border: var(--sklearn-color-unfitted-level-1) 1pt solid;\n",
       "}\n",
       "\n",
       "#sk-container-id-2 a.estimator_doc_link.fitted {\n",
       "  /* fitted */\n",
       "  border: var(--sklearn-color-fitted-level-1) 1pt solid;\n",
       "  color: var(--sklearn-color-fitted-level-1);\n",
       "}\n",
       "\n",
       "/* On hover */\n",
       "#sk-container-id-2 a.estimator_doc_link:hover {\n",
       "  /* unfitted */\n",
       "  background-color: var(--sklearn-color-unfitted-level-3);\n",
       "  color: var(--sklearn-color-background);\n",
       "  text-decoration: none;\n",
       "}\n",
       "\n",
       "#sk-container-id-2 a.estimator_doc_link.fitted:hover {\n",
       "  /* fitted */\n",
       "  background-color: var(--sklearn-color-fitted-level-3);\n",
       "}\n",
       "</style><div id=\"sk-container-id-2\" class=\"sk-top-container\"><div class=\"sk-text-repr-fallback\"><pre>XGBClassifier(base_score=None, booster=None, callbacks=None,\n",
       "              colsample_bylevel=None, colsample_bynode=None,\n",
       "              colsample_bytree=0.6717631725634154, device=None,\n",
       "              early_stopping_rounds=None, enable_categorical=False, eta=0.1,\n",
       "              eval_metric=&#x27;logloss&#x27;, feature_types=None,\n",
       "              gamma=0.9096345081271928, grow_policy=None, importance_type=None,\n",
       "              interaction_constraints=None, learning_rate=0.01470760158590112,\n",
       "              max_bin=None, max_cat_threshold=None, max_cat_to_onehot=None,\n",
       "              max_delta_step=None, max_depth=9, max_leaves=None,\n",
       "              min_child_weight=1.1649091583091502, missing=nan,\n",
       "              monotone_constraints=None, multi_strategy=None, n_estimators=279,\n",
       "              n_jobs=None, num_parallel_tree=None, ...)</pre><b>In a Jupyter environment, please rerun this cell to show the HTML representation or trust the notebook. <br />On GitHub, the HTML representation is unable to render, please try loading this page with nbviewer.org.</b></div><div class=\"sk-container\" hidden><div class=\"sk-item\"><div class=\"sk-estimator fitted sk-toggleable\"><input class=\"sk-toggleable__control sk-hidden--visually\" id=\"sk-estimator-id-2\" type=\"checkbox\" checked><label for=\"sk-estimator-id-2\" class=\"sk-toggleable__label fitted sk-toggleable__label-arrow\"><div><div>XGBClassifier</div></div><div><span class=\"sk-estimator-doc-link fitted\">i<span>Fitted</span></span></div></label><div class=\"sk-toggleable__content fitted\"><pre>XGBClassifier(base_score=None, booster=None, callbacks=None,\n",
       "              colsample_bylevel=None, colsample_bynode=None,\n",
       "              colsample_bytree=0.6717631725634154, device=None,\n",
       "              early_stopping_rounds=None, enable_categorical=False, eta=0.1,\n",
       "              eval_metric=&#x27;logloss&#x27;, feature_types=None,\n",
       "              gamma=0.9096345081271928, grow_policy=None, importance_type=None,\n",
       "              interaction_constraints=None, learning_rate=0.01470760158590112,\n",
       "              max_bin=None, max_cat_threshold=None, max_cat_to_onehot=None,\n",
       "              max_delta_step=None, max_depth=9, max_leaves=None,\n",
       "              min_child_weight=1.1649091583091502, missing=nan,\n",
       "              monotone_constraints=None, multi_strategy=None, n_estimators=279,\n",
       "              n_jobs=None, num_parallel_tree=None, ...)</pre></div> </div></div></div></div>"
      ],
      "text/plain": [
       "XGBClassifier(base_score=None, booster=None, callbacks=None,\n",
       "              colsample_bylevel=None, colsample_bynode=None,\n",
       "              colsample_bytree=0.6717631725634154, device=None,\n",
       "              early_stopping_rounds=None, enable_categorical=False, eta=0.1,\n",
       "              eval_metric='logloss', feature_types=None,\n",
       "              gamma=0.9096345081271928, grow_policy=None, importance_type=None,\n",
       "              interaction_constraints=None, learning_rate=0.01470760158590112,\n",
       "              max_bin=None, max_cat_threshold=None, max_cat_to_onehot=None,\n",
       "              max_delta_step=None, max_depth=9, max_leaves=None,\n",
       "              min_child_weight=1.1649091583091502, missing=nan,\n",
       "              monotone_constraints=None, multi_strategy=None, n_estimators=279,\n",
       "              n_jobs=None, num_parallel_tree=None, ...)"
      ]
     },
     "execution_count": 160,
     "metadata": {},
     "output_type": "execute_result"
    }
   ],
   "source": [
    "model.fit(x_train , y_train)"
   ]
  },
  {
   "cell_type": "code",
   "execution_count": 161,
   "metadata": {},
   "outputs": [],
   "source": [
    "y_pred = model.predict(x_test1)"
   ]
  },
  {
   "cell_type": "code",
   "execution_count": 163,
   "metadata": {},
   "outputs": [],
   "source": [
    "from sklearn.metrics import make_scorer, precision_score, recall_score, f1_score, classification_report, confusion_matrix"
   ]
  },
  {
   "cell_type": "code",
   "execution_count": 164,
   "metadata": {},
   "outputs": [
    {
     "name": "stdout",
     "output_type": "stream",
     "text": [
      "\n",
      "Test Set Results:\n",
      "\n",
      "Classification Report:\n",
      "              precision    recall  f1-score   support\n",
      "\n",
      "           0       0.98      0.99      0.99       297\n",
      "           1       0.99      0.97      0.98       157\n",
      "\n",
      "    accuracy                           0.98       454\n",
      "   macro avg       0.99      0.98      0.98       454\n",
      "weighted avg       0.98      0.98      0.98       454\n",
      "\n"
     ]
    }
   ],
   "source": [
    "# Calculate metrics on test set\n",
    "print(\"\\nTest Set Results:\")\n",
    "print(\"\\nClassification Report:\")\n",
    "print(classification_report(y_test, y_pred))"
   ]
  },
  {
   "cell_type": "code",
   "execution_count": 165,
   "metadata": {},
   "outputs": [
    {
     "name": "stdout",
     "output_type": "stream",
     "text": [
      "\n",
      "Confusion Matrix:\n",
      "[[295   2]\n",
      " [  5 152]]\n"
     ]
    }
   ],
   "source": [
    "print(\"\\nConfusion Matrix:\")\n",
    "print(confusion_matrix(y_test, y_pred))"
   ]
  },
  {
   "cell_type": "code",
   "execution_count": 166,
   "metadata": {},
   "outputs": [],
   "source": [
    "test_precision = precision_score(y_test, y_pred)\n",
    "test_recall = recall_score(y_test, y_pred)\n",
    "test_f1 = f1_score(y_test, y_pred)\n"
   ]
  },
  {
   "cell_type": "code",
   "execution_count": 167,
   "metadata": {},
   "outputs": [
    {
     "name": "stdout",
     "output_type": "stream",
     "text": [
      "\n",
      "Test Set Metrics Summary:\n",
      "Precision: 0.9870\n",
      "Recall: 0.9682\n",
      "F1-Score: 0.9775\n"
     ]
    }
   ],
   "source": [
    "print(\"\\nTest Set Metrics Summary:\")\n",
    "print(f\"Precision: {test_precision:.4f}\")\n",
    "print(f\"Recall: {test_recall:.4f}\")\n",
    "print(f\"F1-Score: {test_f1:.4f}\")\n"
   ]
  },
  {
   "cell_type": "code",
   "execution_count": null,
   "metadata": {},
   "outputs": [],
   "source": []
  }
 ],
 "metadata": {
  "kernelspec": {
   "display_name": "tf-gpu-2",
   "language": "python",
   "name": "python3"
  },
  "language_info": {
   "codemirror_mode": {
    "name": "ipython",
    "version": 3
   },
   "file_extension": ".py",
   "mimetype": "text/x-python",
   "name": "python",
   "nbconvert_exporter": "python",
   "pygments_lexer": "ipython3",
   "version": "3.10.16"
  }
 },
 "nbformat": 4,
 "nbformat_minor": 2
}
